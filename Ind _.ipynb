{
 "cells": [
  {
   "cell_type": "markdown",
   "metadata": {},
   "source": [
    "3.Дана целочисленная прямоугольная матрица. Определить:\n",
    "количество столбцов, содержащих хотя бы один нулевой элемент;\n",
    "номер строки, в которой находится самая длинная серия одинаковых элементов."
   ]
  },
  {
   "cell_type": "code",
   "execution_count": 24,
   "metadata": {},
   "outputs": [
    {
     "data": {
      "text/plain": [
       "array([[5, 5, 4, 4, 4, 0],\n",
       "       [6, 6, 2, 0, 6, 3],\n",
       "       [5, 0, 6, 3, 7, 2],\n",
       "       [3, 7, 3, 5, 8, 2]])"
      ]
     },
     "execution_count": 24,
     "metadata": {},
     "output_type": "execute_result"
    }
   ],
   "source": [
    "import numpy as np\n",
    "\n",
    "A = np.random.randint(10, size=24)\n",
    "A.reshape(4, 6)"
   ]
  },
  {
   "cell_type": "code",
   "execution_count": 25,
   "metadata": {},
   "outputs": [
    {
     "name": "stdout",
     "output_type": "stream",
     "text": [
      "[[ True  True  True  True  True False]\n",
      " [ True  True  True False  True  True]\n",
      " [ True False  True  True  True  True]\n",
      " [ True  True  True  True  True  True]]\n"
     ]
    }
   ],
   "source": [
    "B = np.array(A, dtype=bool)\n",
    "B = B.reshape(4, 6)\n",
    "print(B)"
   ]
  },
  {
   "cell_type": "code",
   "execution_count": null,
   "metadata": {},
   "outputs": [],
   "source": [
    "k = 0\n",
    "n = 0\n",
    "while n <= 6:\n",
    "    n = 0\n",
    "    if np.sum(B[:,n], dtype=bool) < 4:\n",
    "        k+=1\n",
    "        n+=1\n",
    "    else:\n",
    "        n+=1\n",
    "print(k)"
   ]
  },
  {
   "cell_type": "code",
   "execution_count": 26,
   "metadata": {},
   "outputs": [
    {
     "name": "stdout",
     "output_type": "stream",
     "text": [
      "1\n"
     ]
    }
   ],
   "source": [
    "k = 0\n",
    "n = 0\n",
    "if np.sum(B[:,n], dtype=bool) < 4:\n",
    "    k+=1\n",
    "    if n<=6:\n",
    "        n+=1\n",
    "else:\n",
    "    if n<=6:\n",
    "        n+=1\n",
    "print(k)"
   ]
  },
  {
   "cell_type": "code",
   "execution_count": null,
   "metadata": {},
   "outputs": [],
   "source": [
    "\n",
    "while n<=6:\n",
    "    k = 0\n",
    "    n = 0\n",
    "    if np.sum(B[:,n], dtype=bool) < 4:\n",
    "        k = k + 1\n",
    "    n = n + 1\n",
    "print(k)"
   ]
  },
  {
   "cell_type": "code",
   "execution_count": null,
   "metadata": {},
   "outputs": [],
   "source": []
  }
 ],
 "metadata": {
  "kernelspec": {
   "display_name": "Python 3",
   "language": "python",
   "name": "python3"
  },
  "language_info": {
   "codemirror_mode": {
    "name": "ipython",
    "version": 3
   },
   "file_extension": ".py",
   "mimetype": "text/x-python",
   "name": "python",
   "nbconvert_exporter": "python",
   "pygments_lexer": "ipython3",
   "version": "3.8.5"
  }
 },
 "nbformat": 4,
 "nbformat_minor": 4
}
