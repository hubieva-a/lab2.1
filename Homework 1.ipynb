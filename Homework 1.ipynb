{
 "cells": [
  {
   "cell_type": "markdown",
   "metadata": {},
   "source": [
    "# Домашнее задание №5"
   ]
  },
  {
   "cell_type": "markdown",
   "metadata": {},
   "source": [
    "### Задание №1 (1,5 балла)\n",
    "\n",
    "Создайте два массива: в первом должны быть четные числа от 2 до 12 включительно, а в другом числа 7, 11, 15, 18, 23, 29."
   ]
  },
  {
   "cell_type": "markdown",
   "metadata": {},
   "source": [
    "$1.$ Сложите массивы и возведите элементы получившегося массива в квадрат:"
   ]
  },
  {
   "cell_type": "code",
   "execution_count": 12,
   "metadata": {},
   "outputs": [
    {
     "name": "stdout",
     "output_type": "stream",
     "text": [
      "[  81  225  441  676 1089 1681]\n"
     ]
    }
   ],
   "source": [
    "import numpy as np\n",
    "a = np.array([2, 4, 6, 8, 10, 12])\n",
    "b = np.array([7, 11, 15, 18, 23, 29])\n",
    "c = a + b\n",
    "c = c * c\n",
    "print(c)"
   ]
  },
  {
   "cell_type": "markdown",
   "metadata": {},
   "source": [
    "$2.$ Выведите все элементы из первого массива, которые стоят на тех местах, где элементы второго массива больше 12 и дают остаток 3 при делении на 5."
   ]
  },
  {
   "cell_type": "code",
   "execution_count": 15,
   "metadata": {},
   "outputs": [
    {
     "name": "stdout",
     "output_type": "stream",
     "text": [
      "[False False False  True  True False]\n",
      "8\n",
      "10\n"
     ]
    }
   ],
   "source": [
    "ind_b = np.logical_and(b>12, b%5==3)\n",
    "print(ind_b)\n",
    "print(a[3])\n",
    "print(a[4])"
   ]
  },
  {
   "cell_type": "markdown",
   "metadata": {},
   "source": [
    "*3.* Для первого массива найдите остатки от деления на 2, а для второго --- на 3. Для каждого получившегося массива выведите его уникальные значения (см. семинар)."
   ]
  },
  {
   "cell_type": "code",
   "execution_count": 17,
   "metadata": {},
   "outputs": [
    {
     "name": "stdout",
     "output_type": "stream",
     "text": [
      "[0 0 0 0 0 0]\n",
      "[1 2 0 0 2 2]\n"
     ]
    }
   ],
   "source": [
    "m = a%2\n",
    "n = b%3\n",
    "print(m)\n",
    "print(n)"
   ]
  },
  {
   "cell_type": "markdown",
   "metadata": {},
   "source": [
    "### Задание №2 (1,5 балла)\n",
    "\n",
    "Найдите интересный для вас датасет. Например, можно выбрать датасет [тут](http://data.un.org/Explorer.aspx) или [тут](https://hls.harvard.edu/library/research/find-a-database/). Если выскакивают ошибки при считывании таблицы, попробуйте их погуглить и решить проблему!\n",
    "\n",
    "1. Рассчитайте подходящие описательные статистики для признаков объектов в выбранном датасете\n",
    "2. Проанализируйте и прокомментируйте содержательно получившиеся результаты\n",
    "    - недостаточно написать фразы формата \"Средний возраст = 60, а минимальный = 20\", следует дать пояснение, что это значит и какие выводы можно сделать в рамках датасета\n",
    "3. Все комментарии оформляйте строго в ячейках формата Markdown\n",
    "    - для этого надо в выпадающем окошке сверху для текущей ячейки сменить тип Code на Markdown\n",
    "    ![](https://i.imgur.com/vl7Fmg9.png)"
   ]
  },
  {
   "cell_type": "code",
   "execution_count": null,
   "metadata": {
    "collapsed": true
   },
   "outputs": [],
   "source": [
    "# YOUR CODE"
   ]
  }
 ],
 "metadata": {
  "kernelspec": {
   "display_name": "Python 3",
   "language": "python",
   "name": "python3"
  },
  "language_info": {
   "codemirror_mode": {
    "name": "ipython",
    "version": 3
   },
   "file_extension": ".py",
   "mimetype": "text/x-python",
   "name": "python",
   "nbconvert_exporter": "python",
   "pygments_lexer": "ipython3",
   "version": "3.8.5"
  }
 },
 "nbformat": 4,
 "nbformat_minor": 2
}
